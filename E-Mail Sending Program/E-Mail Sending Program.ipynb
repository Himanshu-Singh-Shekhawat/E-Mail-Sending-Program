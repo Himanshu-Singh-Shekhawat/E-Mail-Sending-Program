{
 "cells": [
  {
   "cell_type": "code",
   "execution_count": null,
   "id": "dba96800",
   "metadata": {},
   "outputs": [
    {
     "name": "stdout",
     "output_type": "stream",
     "text": [
      "welcome you can send an e-mail \n",
      "plz enter the password : \n",
      "E-mail : Himanshusinghshekhawat8@gmail.com\n",
      "passwordShekhawat@24\n",
      "login unseccessful , there are two possible reasons :\n",
      "1.) You typed wrong Gmail there is an option gmail 'allow us to do \n",
      "2) Do you want to us to open a webpage from where you can enable or allow the gmail security \n",
      "yes or no ? : yes\n"
     ]
    }
   ],
   "source": [
    "import smtplib , webbrowser\n",
    "def get_mail():\n",
    "    servicesAvailable = ['hotmail' , 'gmail' , 'yahoo','outlook']\n",
    "    while True:\n",
    "        mail_id = input(\"E-mail : \")\n",
    "        if '@' in mail_id and '.com' in mail_id:\n",
    "            # shekhawat1998outlook.com\n",
    "\n",
    "            symbol_pos = mail_id.find (\"@\")\n",
    "            dotcom_pos = mail_id.find(\".com\")\n",
    "            sp = mail_id[symbol_pos+1:dotcom_pos]\n",
    "            if sp in servicesAvailable:\n",
    "                return mail_id , sp\n",
    "                break\n",
    "                #tuple\n",
    "                #shekhawat1998outlook.com , outlook\n",
    "            \n",
    "            else:\n",
    "              print(\"we don't provide services for \" +sp)\n",
    "              print(\"we provide services for : Gmail, yahoo ,outlook/hotmail\")\n",
    "            continue\n",
    "        else:\n",
    "            print(\"invalide E-mail retype again\")\n",
    "            continue\n",
    "def set_smtp_domain(serviceProvider):\n",
    "    if serviceProvider == 'gmail':\n",
    "        return 'smtp.gmail.com'\n",
    "    elif serviceProvider == 'outlook' or serviceProvider == 'hotmail':\n",
    "        return 'smtp-mail.outlook.com'\n",
    "    elif serviceProvider == 'yahoo':\n",
    "        return 'smtp.mail.yahoo.com'\n",
    "\n",
    "print(\"welcome you can send an e-mail \")\n",
    "print(\"plz enter the password : \")\n",
    "e_mail , serviceProvider = get_mail()\n",
    "password = input(\"password\")\n",
    "while True:\n",
    "    try:\n",
    "        smtpdomain = set_smtp_domain(serviceProvider)\n",
    "        connection = smtplib.SMTP(smtpdomain , 587)\n",
    "        connection.ehlo()\n",
    "        connection.starttls()\n",
    "        connection.login(e_mail , password)\n",
    "    except:\n",
    "            if serviceProvider == 'gmail':\n",
    "                print(\"login unseccessful , there are two possible reasons :\")\n",
    "                print(\"1.) You typed wrong Gmail there is an option gmail 'allow us to do \")\n",
    "                print(\"2) Do you want to us to open a webpage from where you can enable or allow the gmail security \")\n",
    "                answer = input(\"yes or no ? : \")\n",
    "                if answer == \"yes\" :\n",
    "                      webbrowser.open(\"https://myaccount.google.com/lesssecureapps\")\n",
    "                else:\n",
    "                    print(\"we won't open the webpage for you, you can go to('https://myaccount.google.com')\")\n",
    "                    print(\"Please retype your e-mail and passoword also \")\n",
    "                e_mail , serviceProvider = get_mail()\n",
    "                password = input(\"password: \")\n",
    "                continue\n",
    "            else:\n",
    "                 print(\"login seccessful  \")\n",
    "                 break\n",
    "\n",
    "           \n",
    "print(\"please type receiver E-mail address\")\n",
    "receiverAddress , receiverSP = get_mail()\n",
    "print(\"Now please type Subject and Message\")\n",
    "Subject = input(\"Subject: \")\n",
    "Message = input(\"message: \")\n",
    "connection.sendmail(e_mail, receiverAddress , (\"Subject: \" +str(subject) + \"\\n\\n\" +str(Message)))\n",
    "print(\"E-mail send Seccessfully \")\n",
    "connection.quit()\n"
   ]
  },
  {
   "cell_type": "code",
   "execution_count": null,
   "id": "a60b71e0",
   "metadata": {},
   "outputs": [],
   "source": []
  }
 ],
 "metadata": {
  "kernelspec": {
   "display_name": "Python 3 (ipykernel)",
   "language": "python",
   "name": "python3"
  },
  "language_info": {
   "codemirror_mode": {
    "name": "ipython",
    "version": 3
   },
   "file_extension": ".py",
   "mimetype": "text/x-python",
   "name": "python",
   "nbconvert_exporter": "python",
   "pygments_lexer": "ipython3",
   "version": "3.9.12"
  }
 },
 "nbformat": 4,
 "nbformat_minor": 5
}
